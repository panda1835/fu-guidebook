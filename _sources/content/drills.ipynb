{
 "cells": [
  {
   "cell_type": "markdown",
   "metadata": {},
   "source": [
    "# Drills"
   ]
  },
  {
   "cell_type": "markdown",
   "metadata": {},
   "source": [
    "## Offense Drills"
   ]
  },
  {
   "cell_type": "markdown",
   "metadata": {},
   "source": [
    "### Throw n Go\n",
    "Tập ném rồi chạy ngay, áp dụng backhand, lefty backhand, forehand. Cú dish luôn ném backhand (hoặc lefty backhand)\n",
    "```{toggle}\n",
    "<iframe id=\"play_22581\" src=\"https://playspedia.com/play/embed/id/22581\" height=\"730\" width=\"325\" frameborder=\"2\" marginwidth=\"0\" marginheight=\"0\" scrolling=\"no\"></iframe>\n",
    "```"
   ]
  },
  {
   "cell_type": "markdown",
   "metadata": {},
   "source": [
    "### Infinity #1\n",
    "Tập ném, chụp, cut; Chú ý: đĩa ném bên không có hàng, V-cut và chạy vào đĩa\n",
    "```{toggle}\n",
    "<iframe id=\"play_22584\" src=\"https://playspedia.com/play/embed/id/22584\" height=\"730\" width=\"325\" frameborder=\"2\" marginwidth=\"0\" marginheight=\"0\" scrolling=\"no\"></iframe>\n",
    "```"
   ]
  },
  {
   "cell_type": "markdown",
   "metadata": {},
   "source": [
    "### Infinity #2\n",
    "Tập ném, chụp, cut; Đổi vị trí cone ngược lại để ném forehand. Chú ý: V-cut và chạy vào đĩa\n",
    "```{toggle}\n",
    "<iframe id=\"play_22583\" src=\"https://playspedia.com/play/embed/id/22583\" height=\"730\" width=\"325\" frameborder=\"0\" marginwidth=\"0\" marginheight=\"0\" scrolling=\"no\"></iframe>\n",
    "```"
   ]
  },
  {
   "cell_type": "markdown",
   "metadata": {},
   "source": []
  }
 ],
 "metadata": {
  "language_info": {
   "name": "python"
  },
  "orig_nbformat": 4
 },
 "nbformat": 4,
 "nbformat_minor": 2
}
