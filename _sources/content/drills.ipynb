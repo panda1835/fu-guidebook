{
 "cells": [
  {
   "cell_type": "markdown",
   "metadata": {},
   "source": [
    "# Drills"
   ]
  },
  {
   "cell_type": "markdown",
   "metadata": {},
   "source": [
    "## Offense Drills"
   ]
  },
  {
   "cell_type": "markdown",
   "metadata": {},
   "source": [
    "```{figure} ../media/drills/offense/throwngo.png\n",
    "---\n",
    "height: 130px\n",
    "figclass: margin\n",
    "---\n",
    "```\n",
    "\n",
    "### Throw n Go\n",
    "\n",
    "Tập ném rồi chạy ngay, áp dụng backhand, lefty backhand, forehand. Cú dish luôn ném backhand (hoặc lefty backhand)\n",
    "```{toggle}\n",
    "<iframe id=\"play_22581\" src=\"https://playspedia.com/play/embed/id/22581\" height=\"730\" width=\"325\" frameborder=\"2\" marginwidth=\"0\" marginheight=\"0\" scrolling=\"no\"></iframe>\n",
    "```"
   ]
  },
  {
   "cell_type": "markdown",
   "metadata": {},
   "source": [
    "```{figure} ../media/drills/offense/infinity1.png\n",
    "---\n",
    "height: 130px\n",
    "figclass: margin\n",
    "---\n",
    "```\n",
    "\n",
    "### Infinity #1\n",
    "Tập ném, chụp, cut; Chú ý: đĩa ném bên không có hàng, V-cut và chạy vào đĩa\n",
    "```{toggle}\n",
    "<iframe id=\"play_22584\" src=\"https://playspedia.com/play/embed/id/22584\" height=\"730\" width=\"325\" frameborder=\"2\" marginwidth=\"0\" marginheight=\"0\" scrolling=\"no\"></iframe>\n",
    "```"
   ]
  },
  {
   "cell_type": "markdown",
   "metadata": {},
   "source": [
    "```{figure} ../media/drills/offense/infinity2.png\n",
    "---\n",
    "height: 130px\n",
    "figclass: margin\n",
    "---\n",
    "```\n",
    "\n",
    "### Infinity #2\n",
    "Tập ném, chụp, cut; Đổi vị trí cone ngược lại để ném forehand. Chú ý: V-cut và chạy vào đĩa\n",
    "```{toggle}\n",
    "<iframe id=\"play_22583\" src=\"https://playspedia.com/play/embed/id/22583\" height=\"730\" width=\"325\" frameborder=\"0\" marginwidth=\"0\" marginheight=\"0\" scrolling=\"no\"></iframe>\n",
    "```"
   ]
  },
  {
   "cell_type": "markdown",
   "metadata": {},
   "source": [
    "```{figure} ../media/drills/offense/handlercutting.png\n",
    "---\n",
    "height: 130px\n",
    "figclass: margin\n",
    "---\n",
    "```\n",
    "\n",
    "### The Handler Cutting\n",
    "Xử lý tình huống pass đĩa cho handler khi bị forced sideline.\n",
    "```{toggle}\n",
    "<iframe id=\"play_22589\" src=\"https://playspedia.com/play/embed/id/22589\" height=\"830\" width=\"525\" frameborder=\"0\" marginwidth=\"0\" marginheight=\"0\" scrolling=\"no\"></iframe>\n",
    "```"
   ]
  }
 ],
 "metadata": {
  "kernelspec": {
   "display_name": "Python 3.9.5 ('base')",
   "language": "python",
   "name": "python3"
  },
  "language_info": {
   "name": "python",
   "version": "3.9.5"
  },
  "orig_nbformat": 4,
  "vscode": {
   "interpreter": {
    "hash": "c96c929cd44cbfb83c61d0a24797df5d65008c381a130fe7ec7b20b72344b911"
   }
  }
 },
 "nbformat": 4,
 "nbformat_minor": 2
}
